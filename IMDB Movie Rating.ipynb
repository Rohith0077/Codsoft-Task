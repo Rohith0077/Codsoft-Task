{
  "nbformat": 4,
  "nbformat_minor": 0,
  "metadata": {
    "colab": {
      "provenance": []
    },
    "kernelspec": {
      "name": "python3",
      "display_name": "Python 3"
    },
    "language_info": {
      "name": "python"
    }
  },
  "cells": [
    {
      "cell_type": "code",
      "execution_count": 17,
      "metadata": {
        "colab": {
          "base_uri": "https://localhost:8080/"
        },
        "id": "GA3hAqXQaE0t",
        "outputId": "3a6dc82e-5373-46d8-884d-e942888dc3a5"
      },
      "outputs": [
        {
          "output_type": "stream",
          "name": "stdout",
          "text": [
            "                                 Name    Year Duration            Genre  \\\n",
            "0                                         NaN      NaN            Drama   \n",
            "1  #Gadhvi (He thought he was Gandhi)  (2019)  109 min            Drama   \n",
            "2                         #Homecoming  (2021)   90 min   Drama, Musical   \n",
            "3                             #Yaaram  (2019)  110 min  Comedy, Romance   \n",
            "4                   ...And Once Again  (2010)  105 min            Drama   \n",
            "\n",
            "   Rating Votes            Director       Actor 1             Actor 2  \\\n",
            "0     NaN   NaN       J.S. Randhawa      Manmauji              Birbal   \n",
            "1     7.0     8       Gaurav Bakshi  Rasika Dugal      Vivek Ghamande   \n",
            "2     NaN   NaN  Soumyajit Majumdar  Sayani Gupta   Plabita Borthakur   \n",
            "3     4.4    35          Ovais Khan       Prateik          Ishita Raj   \n",
            "4     NaN   NaN        Amol Palekar  Rajat Kapoor  Rituparna Sengupta   \n",
            "\n",
            "           Actor 3  \n",
            "0  Rajendra Bhatia  \n",
            "1    Arvind Jangid  \n",
            "2       Roy Angana  \n",
            "3  Siddhant Kapoor  \n",
            "4      Antara Mali  \n",
            "Accuracy: 0.42\n",
            "              precision    recall  f1-score   support\n",
            "\n",
            "        High       0.28      0.29      0.28       372\n",
            "         Low       0.33      0.33      0.33       442\n",
            "      Medium       0.54      0.52      0.53       884\n",
            "\n",
            "    accuracy                           0.42      1698\n",
            "   macro avg       0.38      0.38      0.38      1698\n",
            "weighted avg       0.42      0.42      0.42      1698\n",
            "\n",
            "IMDb Movies India\n",
            "[[109  78 185]\n",
            " [ 83 146 213]\n",
            " [202 222 460]]\n"
          ]
        }
      ],
      "source": [
        "                                                     IMBD Movie Rating - Task 2\n",
        "import pandas as pd\n",
        "from sklearn.model_selection import train_test_split\n",
        "from sklearn.tree import DecisionTreeClassifier\n",
        "from sklearn.metrics import accuracy_score, classification_report, confusion_matrix\n",
        "from sklearn.preprocessing import LabelEncoder\n",
        "\n",
        "# Load the Dataset\n",
        "file_path = 'IMDb Movies India.csv'\n",
        "data = pd.read_csv(file_path ,  encoding='latin1')\n",
        "\n",
        "# Display the first few rows of the dataset\n",
        "print(data.head())\n",
        "\n",
        "#  Preprocess the Data\n",
        "data = data.dropna()\n",
        "\n",
        "# Select relevant features for the model\n",
        "# Assuming 'genre', 'director', 'actors', and 'rating' are available columns\n",
        "data = data[['Genre', 'Director', 'Actor 1', 'Actor 2','Actor 3','Rating']]\n",
        "\n",
        "# Convert the rating to categories: 'Low', 'Medium', 'High'\n",
        "bins = [0, 5, 7, 10]\n",
        "labels = ['Low', 'Medium', 'High']\n",
        "data['Rating_category'] = pd.cut(data['Rating'], bins=bins, labels=labels)\n",
        "\n",
        "# Encode categorical features\n",
        "label_encoders = {}\n",
        "for column in ['Genre', 'Director', 'Actor 1','Actor 2','Actor 3']:\n",
        "    le = LabelEncoder()\n",
        "    data[column] = le.fit_transform(data[column])\n",
        "    label_encoders[column] = le\n",
        "\n",
        "# Encode the target variable\n",
        "label_encoder_y = LabelEncoder()\n",
        "data['Rating_category'] = label_encoder_y.fit_transform(data['Rating_category'])\n",
        "\n",
        "# Separate features and target variable\n",
        "X = data[['Genre', 'Director', 'Actor 1','Actor 2','Actor 3']]\n",
        "y = data['Rating_category']\n",
        "\n",
        "# Split the data into training and testing sets\n",
        "X_train, X_test, y_train, y_test = train_test_split(X, y, test_size=0.3, random_state=42)\n",
        "\n",
        "# Train the Decision Tree Classifier\n",
        "clf = DecisionTreeClassifier(random_state=42)\n",
        "clf.fit(X_train, y_train)\n",
        "\n",
        "#  Evaluate the Model\n",
        "y_pred = clf.predict(X_test)\n",
        "\n",
        "# Calculate accuracy\n",
        "accuracy = accuracy_score(y_test, y_pred)\n",
        "print(f'Accuracy: {accuracy:.2f}')\n",
        "\n",
        "# Print classification report\n",
        "print(classification_report(y_test, y_pred, target_names=label_encoder_y.classes_))\n",
        "\n",
        "# Print confusion matrix\n",
        "cm = confusion_matrix(y_test, y_pred)\n",
        "print('IMDb Movies India')\n",
        "print(cm)"
      ]
    }
  ]
}